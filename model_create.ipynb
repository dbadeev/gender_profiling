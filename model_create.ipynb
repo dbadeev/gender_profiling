{
 "cells": [
  {
   "cell_type": "markdown",
   "metadata": {
    "collapsed": true,
    "pycharm": {
     "name": "#%% md\n"
    }
   },
   "source": [
    "### Preparing training dataset in 2-column form"
   ]
  },
  {
   "cell_type": "code",
   "execution_count": null,
   "outputs": [],
   "source": [
    "import pandas as pd\n",
    "\n",
    "f = pd.read_csv(\"training_data.csv\", sep=':')\n",
    "f.info()\n",
    "f.dtypes\n",
    "f.describe()\n",
    "f[f['post'].isin([None, ''])]\n",
    "f.isnull().sum().sum()\n",
    "nan_rows = f[f['post'].isnull()]\n",
    "print(nan_rows)\n",
    "keep_col = ['gender', 'post']\n",
    "new_f = f[keep_col]\n",
    "new_f.to_csv(\"training_data_two_columns.csv\", index=False, sep=':')\n"
   ],
   "metadata": {
    "collapsed": false,
    "pycharm": {
     "name": "#%%\n"
    }
   }
  },
  {
   "cell_type": "code",
   "execution_count": null,
   "outputs": [],
   "source": [
    "column_name = ['gender']\n",
    "new_f.info()\n",
    "new_f.dtypes\n",
    "new_f.describe()\n",
    "new_f[new_f['post'].isin([None, ''])]\n",
    "new_f.isnull().sum().sum()\n",
    "nan_rows = new_f[new_f['post'].isnull()]\n",
    "print(nan_rows)"
   ],
   "metadata": {
    "collapsed": false,
    "pycharm": {
     "name": "#%%\n"
    }
   }
  },
  {
   "cell_type": "markdown",
   "source": [
    "### Install libraries"
   ],
   "metadata": {
    "collapsed": false
   }
  },
  {
   "cell_type": "code",
   "execution_count": null,
   "outputs": [],
   "source": [
    "!pip3 install tensorflow==1.15.4\n",
    "!pip3 install pandas"
   ],
   "metadata": {
    "collapsed": false,
    "pycharm": {
     "name": "#%%\n"
    }
   }
  },
  {
   "cell_type": "code",
   "execution_count": null,
   "outputs": [],
   "source": [
    "# get bert layer\n",
    "!pip3 install bert-experimental --no-deps"
   ],
   "metadata": {
    "collapsed": false,
    "pycharm": {
     "name": "#%%\n"
    }
   }
  },
  {
   "cell_type": "markdown",
   "source": [
    "### Models constructing"
   ],
   "metadata": {
    "collapsed": false
   }
  },
  {
   "cell_type": "code",
   "execution_count": null,
   "outputs": [],
   "source": [
    "import tensorflow as tf\n",
    "import numpy as np\n",
    "import pandas as pd\n",
    "\n",
    "from sklearn.preprocessing import LabelEncoder\n",
    "from sklearn.metrics import classification_report\n",
    "from sklearn.model_selection import train_test_split\n",
    "\n",
    "from bert_experimental.finetuning.bert_layer import BertLayer"
   ],
   "metadata": {
    "collapsed": false,
    "pycharm": {
     "name": "#%%\n"
    }
   }
  },
  {
   "cell_type": "markdown",
   "source": [
    "#### preparing parametres for 3 different models"
   ],
   "metadata": {
    "collapsed": false
   }
  },
  {
   "cell_type": "code",
   "execution_count": null,
   "outputs": [],
   "source": [
    "# Base data kit\n",
    "\n",
    "df = pd.read_csv(\"training_data_two_columns.csv\",sep=\":\")\n",
    "label_encoder = LabelEncoder()\n",
    "df['label'] = label_encoder.fit_transform(df.gender.tolist())\n",
    "n_classes = len(df.label.unique())\n",
    "\n",
    "X = df.post.values\n",
    "L = df.label.values\n",
    "Y = tf.keras.utils.to_categorical(L)\n",
    "\n",
    "trX, tsX, trY, tsY, trL, tsL = train_test_split(X, Y, L, random_state=34, test_size=0.1)"
   ],
   "metadata": {
    "collapsed": false,
    "pycharm": {
     "name": "#%%\n"
    }
   }
  },
  {
   "cell_type": "code",
   "execution_count": null,
   "outputs": [],
   "source": [
    "# Middle data kit (for Facebook only)\n",
    "\n",
    "df = pd.read_csv(\"concat_data_two_columns.csv\",sep=\":\")\n",
    "label_encoder = LabelEncoder()\n",
    "df['label'] = label_encoder.fit_transform(df.gender.tolist())\n",
    "n_classes = len(df.label.unique())\n",
    "\n",
    "X = df.post.values\n",
    "L = df.label.values\n",
    "Y = tf.keras.utils.to_categorical(L)\n",
    "\n",
    "trX, tsX, trY, tsY, trL, tsL = train_test_split(X, Y, L, random_state=34, test_size=0.1)"
   ],
   "metadata": {
    "collapsed": false,
    "pycharm": {
     "name": "#%%\n"
    }
   }
  },
  {
   "cell_type": "code",
   "execution_count": null,
   "outputs": [],
   "source": [
    "# Big data kit (all, except Facebook)\n",
    "\n",
    "df = pd.read_csv(\"concat_super_data_two_columns.csv\",sep=\":\")\n",
    "label_encoder = LabelEncoder()\n",
    "df['label'] = label_encoder.fit_transform(df.gender.tolist())\n",
    "n_classes = len(df.label.unique())\n",
    "\n",
    "X = df.post.values\n",
    "L = df.label.values\n",
    "Y = tf.keras.utils.to_categorical(L)\n",
    "\n",
    "trX, tsX, trY, tsY, trL, tsL = train_test_split(X, Y, L, random_state=34, test_size=0.1)"
   ],
   "metadata": {
    "collapsed": false,
    "pycharm": {
     "name": "#%%\n"
    }
   }
  },
  {
   "cell_type": "markdown",
   "source": [
    "#### Model constructor"
   ],
   "metadata": {
    "collapsed": false
   }
  },
  {
   "cell_type": "code",
   "execution_count": null,
   "outputs": [],
   "source": [
    "classification_model = None\n",
    "module_path = \"cased_L-24_H-1024_A-16_tf_module\"\n",
    "input_string = tf.keras.layers.Input(shape=(1,), dtype=tf.string)\n",
    "bert_encoder = BertLayer(module_path, pooling='mean', n_tune_layers=24, seq_len=256)\n",
    "encoded_string = bert_encoder(input_string)\n",
    "dense_hidden = tf.keras.layers.Dense(1024, activation='relu')(encoded_string)\n",
    "dense_dropout = tf.keras.layers.Dropout(0.25)(dense_hidden)\n",
    "dense_output = tf.keras.layers.Dense(n_classes, activation='sigmoid')(dense_dropout)\n",
    "optimizer = tf.keras.optimizers.Adam(learning_rate=1e-5)\n",
    "classification_model = tf.keras.Model(inputs=[input_string], outputs=[dense_output])\n",
    "classification_model.compile(loss='binary_crossentropy', optimizer=optimizer, metrics=['accuracy'])\n",
    "classification_model.summary()"
   ],
   "metadata": {
    "collapsed": false,
    "pycharm": {
     "name": "#%%\n"
    }
   }
  },
  {
   "cell_type": "code",
   "execution_count": null,
   "outputs": [],
   "source": [
    "from tensorflow.keras.callbacks import EarlyStopping\n",
    "\n",
    "early_stopping_callback = EarlyStopping(monitor='val_acc', patience=2)"
   ],
   "metadata": {
    "collapsed": false,
    "pycharm": {
     "name": "#%%\n"
    }
   }
  },
  {
   "cell_type": "code",
   "execution_count": null,
   "outputs": [],
   "source": [
    "classification_model.fit(trX, trY, validation_data=[tsX, tsY], batch_size=32, epochs=3,\n",
    "                         callbacks=[early_stopping_callback])"
   ],
   "metadata": {
    "collapsed": false,
    "pycharm": {
     "name": "#%%\n"
    }
   }
  },
  {
   "cell_type": "markdown",
   "source": [
    "#### Save different models"
   ],
   "metadata": {
    "collapsed": false
   }
  },
  {
   "cell_type": "code",
   "execution_count": null,
   "outputs": [],
   "source": [
    "#Base model\n",
    "\n",
    "classification_model.save('cls_model_256.h5')"
   ],
   "metadata": {
    "collapsed": false,
    "pycharm": {
     "name": "#%%\n"
    }
   }
  },
  {
   "cell_type": "code",
   "execution_count": null,
   "outputs": [],
   "source": [
    "#Middle model\n",
    "\n",
    "classification_model.save('cls_middle_model_256.h5')"
   ],
   "metadata": {
    "collapsed": false,
    "pycharm": {
     "name": "#%%\n"
    }
   }
  },
  {
   "cell_type": "code",
   "execution_count": null,
   "outputs": [],
   "source": [
    "#Big model\n",
    "\n",
    "classification_model.save('cls_big_model_256.h5')\n"
   ],
   "metadata": {
    "collapsed": false,
    "pycharm": {
     "name": "#%%\n"
    }
   }
  }
 ],
 "metadata": {
  "kernelspec": {
   "display_name": "Python 3",
   "language": "python",
   "name": "python3"
  },
  "language_info": {
   "codemirror_mode": {
    "name": "ipython",
    "version": 2
   },
   "file_extension": ".py",
   "mimetype": "text/x-python",
   "name": "python",
   "nbconvert_exporter": "python",
   "pygments_lexer": "ipython2",
   "version": "2.7.6"
  }
 },
 "nbformat": 4,
 "nbformat_minor": 0
}